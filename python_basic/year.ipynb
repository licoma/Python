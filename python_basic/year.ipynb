{
 "cells": [
  {
   "cell_type": "code",
   "execution_count": 3,
   "metadata": {},
   "outputs": [
    {
     "name": "stdout",
     "output_type": "stream",
     "text": [
      "윤년이 아닙니다.\n"
     ]
    }
   ],
   "source": [
    "year = 2007\n",
    "\n",
    "if year % 4 == 0:\n",
    "    if year % 100 == 0:\n",
    "        if year % 400 == 0:\n",
    "            print(\"윤년입니다.\")\n",
    "        else:\n",
    "            print(\"윤년이 아닙니다.\")\n",
    "    else:\n",
    "        print(\"윤년입니다.\")\n",
    "else:\n",
    "    print(\"윤년이 아닙니다.\")"
   ]
  },
  {
   "cell_type": "code",
   "execution_count": null,
   "metadata": {},
   "outputs": [],
   "source": [
    "XA = True  # 죄수 A의 자백 여부\n",
    "XB = False  # 죄수 B의 자백 여부\n",
    "\n",
    "# 둘 다 자백한 경우\n",
    "if XA and XB:\n",
    "        YA = YB = 5\n",
    "# 둘 중 한 명만 자백한 경우\n",
    "elif XA or XB:\n",
    "    YA = 0 if XB else 10\n",
    "    YB = 0 if XA else 10\n",
    "# 둘 다 자백하지 않은 경우\n",
    "else:\n",
    "    YA = YB = 1\n",
    "\n",
    "# 결과 출력\n",
    "print(\"죄수 A의 복역 연 수:\", YA)\n",
    "print(\"죄수 B의 복역 연 수:\", YB)"
   ]
  }
 ],
 "metadata": {
  "kernelspec": {
   "display_name": "Python 3",
   "language": "python",
   "name": "python3"
  },
  "language_info": {
   "codemirror_mode": {
    "name": "ipython",
    "version": 3
   },
   "file_extension": ".py",
   "mimetype": "text/x-python",
   "name": "python",
   "nbconvert_exporter": "python",
   "pygments_lexer": "ipython3",
   "version": "3.12.2"
  }
 },
 "nbformat": 4,
 "nbformat_minor": 2
}
